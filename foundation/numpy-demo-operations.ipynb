{
 "cells": [
  {
   "cell_type": "code",
   "execution_count": 2,
   "id": "ec6317d3-3f6c-4678-9b8d-599e75597e43",
   "metadata": {},
   "outputs": [],
   "source": [
    "import numpy as np\n",
    "import matplotlib.pyplot as plt"
   ]
  },
  {
   "cell_type": "code",
   "execution_count": 4,
   "id": "466b45f4-61a2-4c5d-8b64-fd4989e36a6a",
   "metadata": {},
   "outputs": [],
   "source": [
    "stock_change = np.random.normal(0,1, (8,10))"
   ]
  },
  {
   "cell_type": "code",
   "execution_count": 5,
   "id": "a899e32b-9667-45a1-892c-b185df2f2b0d",
   "metadata": {},
   "outputs": [
    {
     "data": {
      "text/plain": [
       "array([[-0.0115616 ,  0.77012907, -1.37138313,  0.06657027,  0.1462427 ,\n",
       "        -1.75794634,  2.05954405,  0.03992356, -0.25009769,  0.13522856],\n",
       "       [-0.69097921,  0.78077073,  0.09050113,  0.20989077,  2.06393737,\n",
       "        -0.20560383, -0.693826  , -0.56202929,  1.53242952,  0.60647896],\n",
       "       [-0.51187324,  0.22445395, -1.21474191, -1.54015467, -0.13703247,\n",
       "         1.61048894,  0.65670623,  0.72897067, -2.26883328,  0.67543874],\n",
       "       [-0.15843342,  2.07433281,  0.18602596,  0.95778058,  0.49626502,\n",
       "         0.70247939, -0.1356852 ,  0.71768252, -0.42633265, -2.58527221],\n",
       "       [ 0.77265746, -0.41040048, -1.15532313, -0.41096549, -1.5855577 ,\n",
       "         1.68212244,  0.33959776,  0.80702657, -0.53815991,  0.49617391],\n",
       "       [-0.57538992, -1.29590899, -0.75262765, -0.48821291,  1.35218437,\n",
       "         1.34507978, -1.09890134, -0.15492003, -0.87954308, -1.38766405],\n",
       "       [ 0.75426774,  0.31668194, -0.90695763,  0.35014866,  0.25825196,\n",
       "         1.24702232,  0.67231402, -0.32019074, -1.58810805, -0.86050121],\n",
       "       [ 1.11539589, -1.45743211,  0.77512581,  0.71048159, -0.99971358,\n",
       "        -0.83474642,  0.93159502,  2.30324292,  0.61453197, -0.53171548]])"
      ]
     },
     "execution_count": 5,
     "metadata": {},
     "output_type": "execute_result"
    }
   ],
   "source": [
    "stock_change"
   ]
  },
  {
   "cell_type": "code",
   "execution_count": 6,
   "id": "dc8e671b-dafe-4622-8a32-8562bd58ba2c",
   "metadata": {},
   "outputs": [
    {
     "data": {
      "text/plain": [
       "array([[False,  True, False, False, False, False,  True, False, False,\n",
       "        False],\n",
       "       [False,  True, False, False,  True, False, False, False,  True,\n",
       "         True],\n",
       "       [False, False, False, False, False,  True,  True,  True, False,\n",
       "         True],\n",
       "       [False,  True, False,  True, False,  True, False,  True, False,\n",
       "        False],\n",
       "       [ True, False, False, False, False,  True, False,  True, False,\n",
       "        False],\n",
       "       [False, False, False, False,  True,  True, False, False, False,\n",
       "        False],\n",
       "       [ True, False, False, False, False,  True,  True, False, False,\n",
       "        False],\n",
       "       [ True, False,  True,  True, False, False,  True,  True,  True,\n",
       "        False]])"
      ]
     },
     "execution_count": 6,
     "metadata": {},
     "output_type": "execute_result"
    }
   ],
   "source": [
    "stock_change > 0.5"
   ]
  },
  {
   "cell_type": "code",
   "execution_count": 7,
   "id": "ff690519-955c-401e-a74f-3622be100638",
   "metadata": {},
   "outputs": [
    {
     "data": {
      "text/plain": [
       "array([0.77012907, 2.05954405, 0.78077073, 2.06393737, 1.53242952,\n",
       "       0.60647896, 1.61048894, 0.65670623, 0.72897067, 0.67543874,\n",
       "       2.07433281, 0.95778058, 0.70247939, 0.71768252, 0.77265746,\n",
       "       1.68212244, 0.80702657, 1.35218437, 1.34507978, 0.75426774,\n",
       "       1.24702232, 0.67231402, 1.11539589, 0.77512581, 0.71048159,\n",
       "       0.93159502, 2.30324292, 0.61453197])"
      ]
     },
     "execution_count": 7,
     "metadata": {},
     "output_type": "execute_result"
    }
   ],
   "source": [
    "stock_change[stock_change > 0.5]"
   ]
  },
  {
   "cell_type": "code",
   "execution_count": 8,
   "id": "47f5c781-a947-4462-a54d-cfdc5c6c59e8",
   "metadata": {},
   "outputs": [
    {
     "data": {
      "text/plain": [
       "array([[-0.0115616 ,  0.77012907, -1.37138313,  0.06657027,  0.1462427 ],\n",
       "       [-0.69097921,  0.78077073,  0.09050113,  0.20989077,  2.06393737]])"
      ]
     },
     "execution_count": 8,
     "metadata": {},
     "output_type": "execute_result"
    }
   ],
   "source": [
    "stock_change[0:2, 0:5]"
   ]
  },
  {
   "cell_type": "code",
   "execution_count": 11,
   "id": "9eb64877-714d-4dac-9200-3898777da133",
   "metadata": {},
   "outputs": [
    {
     "name": "stdout",
     "output_type": "stream",
     "text": [
      "[[False  True False  True  True]\n",
      " [False  True  True  True  True]] ==> False\n"
     ]
    }
   ],
   "source": [
    "print(f'{stock_change[0:2, 0:5] > 0} ==> {np.all(stock_change[0:2, 0:5] > 0)}')"
   ]
  },
  {
   "cell_type": "code",
   "execution_count": 14,
   "id": "7f354d4f-32a1-4610-810c-85d6ef109237",
   "metadata": {},
   "outputs": [
    {
     "name": "stdout",
     "output_type": "stream",
     "text": [
      "[[False  True False  True  True False  True  True False  True]\n",
      " [False  True  True  True  True False False False  True  True]\n",
      " [False  True False False False  True  True  True False  True]\n",
      " [False  True  True  True  True  True False  True False False]\n",
      " [ True False False False False  True  True  True False  True]] ==> True\n"
     ]
    }
   ],
   "source": [
    "print(f'{stock_change[:5,:] > 0} ==> {np.any(stock_change[:5,] > 0)}')"
   ]
  },
  {
   "cell_type": "markdown",
   "id": "43286f29-9315-41c1-944f-3dbdf029d3ba",
   "metadata": {},
   "source": [
    "# np.where"
   ]
  },
  {
   "cell_type": "code",
   "execution_count": 15,
   "id": "4e2d4ecd-8df5-42ba-a310-288abb36b173",
   "metadata": {},
   "outputs": [],
   "source": [
    "temp = stock_change[:4,:4]"
   ]
  },
  {
   "cell_type": "code",
   "execution_count": 16,
   "id": "029690d3-3b30-45b3-83bb-e2e3fad385e2",
   "metadata": {},
   "outputs": [
    {
     "data": {
      "text/plain": [
       "array([[-0.0115616 ,  0.77012907, -1.37138313,  0.06657027],\n",
       "       [-0.69097921,  0.78077073,  0.09050113,  0.20989077],\n",
       "       [-0.51187324,  0.22445395, -1.21474191, -1.54015467],\n",
       "       [-0.15843342,  2.07433281,  0.18602596,  0.95778058]])"
      ]
     },
     "execution_count": 16,
     "metadata": {},
     "output_type": "execute_result"
    }
   ],
   "source": [
    "temp"
   ]
  },
  {
   "cell_type": "code",
   "execution_count": 17,
   "id": "bc98e366-de5e-4e80-9c3a-45f07e8eb7be",
   "metadata": {},
   "outputs": [
    {
     "data": {
      "text/plain": [
       "array([[0, 1, 0, 1],\n",
       "       [0, 1, 1, 1],\n",
       "       [0, 1, 0, 0],\n",
       "       [0, 1, 1, 1]])"
      ]
     },
     "execution_count": 17,
     "metadata": {},
     "output_type": "execute_result"
    }
   ],
   "source": [
    "np.where(temp > 0, 1, 0)"
   ]
  },
  {
   "cell_type": "code",
   "execution_count": 18,
   "id": "fe57cbef-0fa0-4f68-bc60-264bfa40cef4",
   "metadata": {},
   "outputs": [
    {
     "data": {
      "text/plain": [
       "array([[False,  True, False, False],\n",
       "       [False,  True, False, False],\n",
       "       [False, False, False, False],\n",
       "       [False, False, False,  True]])"
      ]
     },
     "execution_count": 18,
     "metadata": {},
     "output_type": "execute_result"
    }
   ],
   "source": [
    "np.logical_and(temp > 0.5, temp < 1)"
   ]
  },
  {
   "cell_type": "code",
   "execution_count": 19,
   "id": "173f1ec0-3123-463c-87e0-7ee5ca84511b",
   "metadata": {},
   "outputs": [
    {
     "data": {
      "text/plain": [
       "array([[0, 1, 0, 0],\n",
       "       [0, 1, 0, 0],\n",
       "       [0, 0, 0, 0],\n",
       "       [0, 0, 0, 1]])"
      ]
     },
     "execution_count": 19,
     "metadata": {},
     "output_type": "execute_result"
    }
   ],
   "source": [
    "np.where(np.logical_and(temp > 0.5, temp < 1), 1, 0)"
   ]
  },
  {
   "cell_type": "code",
   "execution_count": 21,
   "id": "14389624-7827-4848-97c6-4acf21dcdc1b",
   "metadata": {},
   "outputs": [
    {
     "data": {
      "text/plain": [
       "array([[0, 1, 1, 0],\n",
       "       [1, 1, 0, 0],\n",
       "       [1, 0, 1, 1],\n",
       "       [0, 1, 0, 1]])"
      ]
     },
     "execution_count": 21,
     "metadata": {},
     "output_type": "execute_result"
    }
   ],
   "source": [
    "np.where(np.logical_or(temp < -0.5, temp > 0.5), 1, 0)"
   ]
  },
  {
   "cell_type": "markdown",
   "id": "1f1e8d05-9062-435c-a9d4-6681d3856417",
   "metadata": {},
   "source": [
    "# 统计最大涨幅"
   ]
  },
  {
   "cell_type": "code",
   "execution_count": 22,
   "id": "99668a2a-0a76-4902-98cb-ee01d311644e",
   "metadata": {},
   "outputs": [
    {
     "data": {
      "text/plain": [
       "array([[-0.0115616 ,  0.77012907, -1.37138313,  0.06657027],\n",
       "       [-0.69097921,  0.78077073,  0.09050113,  0.20989077],\n",
       "       [-0.51187324,  0.22445395, -1.21474191, -1.54015467],\n",
       "       [-0.15843342,  2.07433281,  0.18602596,  0.95778058]])"
      ]
     },
     "execution_count": 22,
     "metadata": {},
     "output_type": "execute_result"
    }
   ],
   "source": [
    "temp"
   ]
  },
  {
   "cell_type": "code",
   "execution_count": 24,
   "id": "7ff351a9-74eb-406d-a5cc-125ea739995c",
   "metadata": {},
   "outputs": [
    {
     "data": {
      "text/plain": [
       "array([-0.0115616 ,  2.07433281,  0.18602596,  0.95778058])"
      ]
     },
     "execution_count": 24,
     "metadata": {},
     "output_type": "execute_result"
    }
   ],
   "source": [
    "temp.max(axis=0)"
   ]
  },
  {
   "cell_type": "code",
   "execution_count": 25,
   "id": "d8f52d0b-f57f-4260-a64c-9bb21a044b4d",
   "metadata": {},
   "outputs": [
    {
     "data": {
      "text/plain": [
       "array([0.77012907, 0.78077073, 0.22445395, 2.07433281])"
      ]
     },
     "execution_count": 25,
     "metadata": {},
     "output_type": "execute_result"
    }
   ],
   "source": [
    "temp.max(axis=1)"
   ]
  },
  {
   "cell_type": "code",
   "execution_count": 26,
   "id": "2ea14040-c631-4c17-abac-7842914fc705",
   "metadata": {},
   "outputs": [
    {
     "data": {
      "text/plain": [
       "array([0.77012907, 0.78077073, 0.22445395, 2.07433281])"
      ]
     },
     "execution_count": 26,
     "metadata": {},
     "output_type": "execute_result"
    }
   ],
   "source": [
    "temp.max(axis=-1)"
   ]
  },
  {
   "cell_type": "code",
   "execution_count": 86,
   "id": "c4d4cf15-e1fb-4306-96ee-799cd9362f49",
   "metadata": {},
   "outputs": [
    {
     "data": {
      "text/plain": [
       "array([0.07338094, 0.46272906, 0.51638126, 0.82862752])"
      ]
     },
     "execution_count": 86,
     "metadata": {},
     "output_type": "execute_result"
    }
   ],
   "source": [
    "temp.var(axis=0)"
   ]
  },
  {
   "cell_type": "code",
   "execution_count": 28,
   "id": "da66b66a-6ee8-4b4d-bf8a-f21005e40feb",
   "metadata": {},
   "outputs": [
    {
     "data": {
      "text/plain": [
       "array([0.27088917, 0.68024192, 0.71859673, 0.9102898 ])"
      ]
     },
     "execution_count": 28,
     "metadata": {},
     "output_type": "execute_result"
    }
   ],
   "source": [
    "temp.std(axis=0)"
   ]
  },
  {
   "cell_type": "code",
   "execution_count": 29,
   "id": "5a76b28e-d817-4d10-8d5c-eae95d03a2ba",
   "metadata": {},
   "outputs": [
    {
     "data": {
      "text/plain": [
       "array([-0.34321187,  0.96242164, -0.57739949, -0.07647826])"
      ]
     },
     "execution_count": 29,
     "metadata": {},
     "output_type": "execute_result"
    }
   ],
   "source": [
    "temp.mean(axis=0)"
   ]
  },
  {
   "cell_type": "code",
   "execution_count": 30,
   "id": "75f6af52-e5c6-4b80-bf5f-810c6b1ff194",
   "metadata": {},
   "outputs": [
    {
     "data": {
      "text/plain": [
       "array([1, 2, 0, 2], dtype=int64)"
      ]
     },
     "execution_count": 30,
     "metadata": {},
     "output_type": "execute_result"
    }
   ],
   "source": [
    "np.argmin(temp, axis=0)"
   ]
  },
  {
   "cell_type": "code",
   "execution_count": 31,
   "id": "f96bc744-ef0a-4972-bbd4-536faa4d22ab",
   "metadata": {},
   "outputs": [],
   "source": [
    "data = np.array([[[1,2],[3,4]],[[5,6],[7,8]],[[9,10],[11,12]]])"
   ]
  },
  {
   "cell_type": "code",
   "execution_count": 35,
   "id": "42e90d2c-2b5b-4f90-9e35-76bb48ae7fc4",
   "metadata": {},
   "outputs": [
    {
     "data": {
      "text/plain": [
       "array([[ 2,  4],\n",
       "       [ 6,  8],\n",
       "       [10, 12]])"
      ]
     },
     "execution_count": 35,
     "metadata": {},
     "output_type": "execute_result"
    }
   ],
   "source": [
    "data.max(axis=2)"
   ]
  },
  {
   "cell_type": "code",
   "execution_count": 33,
   "id": "b423ce23-1572-4ab3-bbe8-a153eac2e757",
   "metadata": {},
   "outputs": [
    {
     "data": {
      "text/plain": [
       "(3, 2, 2)"
      ]
     },
     "execution_count": 33,
     "metadata": {},
     "output_type": "execute_result"
    }
   ],
   "source": [
    "data.shape"
   ]
  },
  {
   "cell_type": "code",
   "execution_count": 36,
   "id": "02840a39-c6e7-4773-bea5-1c39577426ac",
   "metadata": {},
   "outputs": [
    {
     "data": {
      "text/plain": [
       "array([[ 9, 10],\n",
       "       [11, 12]])"
      ]
     },
     "execution_count": 36,
     "metadata": {},
     "output_type": "execute_result"
    }
   ],
   "source": [
    "data.max(axis=0)"
   ]
  },
  {
   "cell_type": "code",
   "execution_count": 37,
   "id": "1c500021-bc6a-4016-8843-9e11dd295fc0",
   "metadata": {},
   "outputs": [
    {
     "data": {
      "text/plain": [
       "array([[ 3,  4],\n",
       "       [ 7,  8],\n",
       "       [11, 12]])"
      ]
     },
     "execution_count": 37,
     "metadata": {},
     "output_type": "execute_result"
    }
   ],
   "source": [
    "data.max(axis=1)"
   ]
  },
  {
   "cell_type": "code",
   "execution_count": 38,
   "id": "aef34691-7a4c-4985-991e-43a1555a9a9b",
   "metadata": {},
   "outputs": [
    {
     "data": {
      "text/plain": [
       "array([[1, 1],\n",
       "       [1, 1],\n",
       "       [1, 1]], dtype=int64)"
      ]
     },
     "execution_count": 38,
     "metadata": {},
     "output_type": "execute_result"
    }
   ],
   "source": [
    "np.argmax(data,axis=1)"
   ]
  },
  {
   "cell_type": "code",
   "execution_count": 39,
   "id": "fcb0e549-9eae-43b4-8c53-78d7103daf39",
   "metadata": {},
   "outputs": [
    {
     "data": {
      "text/plain": [
       "array([[1, 1],\n",
       "       [1, 1],\n",
       "       [1, 1]], dtype=int64)"
      ]
     },
     "execution_count": 39,
     "metadata": {},
     "output_type": "execute_result"
    }
   ],
   "source": [
    "np.argmax(data,axis=2)"
   ]
  },
  {
   "cell_type": "markdown",
   "id": "db074579-2ec9-4a51-8bdc-0e9421e10d96",
   "metadata": {},
   "source": [
    "# 数组与数的运算"
   ]
  },
  {
   "cell_type": "code",
   "execution_count": 40,
   "id": "91c63e8a-82cd-49bb-be8e-5351d91699f1",
   "metadata": {},
   "outputs": [],
   "source": [
    "data = np.array([[1,2,3,2,1,4], [5,6,1,2,3,1]])"
   ]
  },
  {
   "cell_type": "code",
   "execution_count": 41,
   "id": "a65c8d8c-6229-48bb-a802-19482d7170b0",
   "metadata": {},
   "outputs": [
    {
     "data": {
      "text/plain": [
       "array([[1, 2, 3, 2, 1, 4],\n",
       "       [5, 6, 1, 2, 3, 1]])"
      ]
     },
     "execution_count": 41,
     "metadata": {},
     "output_type": "execute_result"
    }
   ],
   "source": [
    "data"
   ]
  },
  {
   "cell_type": "code",
   "execution_count": 42,
   "id": "d8bd1e29-6f87-490d-aaa4-cc85aabe2165",
   "metadata": {},
   "outputs": [
    {
     "data": {
      "text/plain": [
       "array([[10, 20, 30, 20, 10, 40],\n",
       "       [50, 60, 10, 20, 30, 10]])"
      ]
     },
     "execution_count": 42,
     "metadata": {},
     "output_type": "execute_result"
    }
   ],
   "source": [
    "data * 10"
   ]
  },
  {
   "cell_type": "markdown",
   "id": "f2e3e4fc-0097-4cb2-a8d9-6f8af05de0e4",
   "metadata": {},
   "source": [
    "# 数组与数组的运算"
   ]
  },
  {
   "cell_type": "code",
   "execution_count": 43,
   "id": "e4a42a05-d898-46b2-8b84-726540a62c73",
   "metadata": {},
   "outputs": [
    {
     "data": {
      "text/plain": [
       "(2, 6)"
      ]
     },
     "execution_count": 43,
     "metadata": {},
     "output_type": "execute_result"
    }
   ],
   "source": [
    "data.shape"
   ]
  },
  {
   "cell_type": "code",
   "execution_count": 44,
   "id": "ffeec045-8f3b-4d4f-8e54-06c018ee1aed",
   "metadata": {},
   "outputs": [
    {
     "data": {
      "text/plain": [
       "array([[ 1,  4,  9,  8,  5, 24],\n",
       "       [ 5, 12,  3,  8, 15,  6]])"
      ]
     },
     "execution_count": 44,
     "metadata": {},
     "output_type": "execute_result"
    }
   ],
   "source": [
    "data * np.array([1,2,3,4,5,6])"
   ]
  },
  {
   "cell_type": "code",
   "execution_count": 45,
   "id": "38dfe82a-97a0-4f4b-b86a-ab74d373f201",
   "metadata": {},
   "outputs": [
    {
     "data": {
      "text/plain": [
       "array([[ 1,  4,  9,  8,  5, 24],\n",
       "       [10, 12,  2,  4,  6,  2]])"
      ]
     },
     "execution_count": 45,
     "metadata": {},
     "output_type": "execute_result"
    }
   ],
   "source": [
    "data * np.array([[1,2,3,4,5,6],[2,2,2,2,2,2]])"
   ]
  },
  {
   "cell_type": "markdown",
   "id": "d6d7e5d5-6a29-40d3-be5a-aef8d087bbc5",
   "metadata": {},
   "source": [
    "# 矩阵运算"
   ]
  },
  {
   "cell_type": "markdown",
   "id": "4b02c1b1-aade-4657-a315-00d52bb329d8",
   "metadata": {},
   "source": [
    "矩阵是2维数组。\n",
    "矩阵和2维数组 - "
   ]
  },
  {
   "cell_type": "code",
   "execution_count": 46,
   "id": "77e9d1c1-91a5-4bc0-8449-f9acd494e5bd",
   "metadata": {},
   "outputs": [],
   "source": [
    "score = np.array([[80,86],[82,80],[85,78],[90,90],[86,82],[82,90],[78,80],[92,94]])"
   ]
  },
  {
   "cell_type": "code",
   "execution_count": 47,
   "id": "b94e2ce9-6a9f-4a1f-a8b2-743c35ff9b32",
   "metadata": {},
   "outputs": [
    {
     "data": {
      "text/plain": [
       "array([[80, 86],\n",
       "       [82, 80],\n",
       "       [85, 78],\n",
       "       [90, 90],\n",
       "       [86, 82],\n",
       "       [82, 90],\n",
       "       [78, 80],\n",
       "       [92, 94]])"
      ]
     },
     "execution_count": 47,
     "metadata": {},
     "output_type": "execute_result"
    }
   ],
   "source": [
    "score"
   ]
  },
  {
   "cell_type": "code",
   "execution_count": 48,
   "id": "1b6a589b-36b3-46cf-aac5-d6d2e483805c",
   "metadata": {},
   "outputs": [
    {
     "data": {
      "text/plain": [
       "matrix([[80, 86],\n",
       "        [82, 80],\n",
       "        [85, 78],\n",
       "        [90, 90],\n",
       "        [86, 82],\n",
       "        [82, 90],\n",
       "        [78, 80],\n",
       "        [92, 94]])"
      ]
     },
     "execution_count": 48,
     "metadata": {},
     "output_type": "execute_result"
    }
   ],
   "source": [
    "np.mat(score)"
   ]
  },
  {
   "cell_type": "code",
   "execution_count": 49,
   "id": "a5734885-eb7c-4af0-a063-2dd699f0c097",
   "metadata": {},
   "outputs": [
    {
     "data": {
      "text/plain": [
       "matrix([[80, 86],\n",
       "        [82, 80],\n",
       "        [85, 78],\n",
       "        [90, 90],\n",
       "        [86, 82],\n",
       "        [82, 90],\n",
       "        [78, 80],\n",
       "        [92, 94]])"
      ]
     },
     "execution_count": 49,
     "metadata": {},
     "output_type": "execute_result"
    }
   ],
   "source": [
    "np.mat([[80, 86],\n",
    "       [82, 80],\n",
    "       [85, 78],\n",
    "       [90, 90],\n",
    "       [86, 82],\n",
    "       [82, 90],\n",
    "       [78, 80],\n",
    "       [92, 94]])"
   ]
  },
  {
   "cell_type": "code",
   "execution_count": 50,
   "id": "6bb7708b-90c7-45f3-8617-8263300b2379",
   "metadata": {},
   "outputs": [
    {
     "data": {
      "text/plain": [
       "numpy.ndarray"
      ]
     },
     "execution_count": 50,
     "metadata": {},
     "output_type": "execute_result"
    }
   ],
   "source": [
    "type(score)"
   ]
  },
  {
   "cell_type": "code",
   "execution_count": 52,
   "id": "9d4ffede-abbc-4ada-a42b-51e4841e4a2f",
   "metadata": {},
   "outputs": [
    {
     "data": {
      "text/plain": [
       "numpy.matrix"
      ]
     },
     "execution_count": 52,
     "metadata": {},
     "output_type": "execute_result"
    }
   ],
   "source": [
    "type(np.mat([[80, 86],\n",
    "       [82, 80],\n",
    "       [85, 78],\n",
    "       [90, 90],\n",
    "       [86, 82],\n",
    "       [82, 90],\n",
    "       [78, 80],\n",
    "       [92, 94]]))"
   ]
  },
  {
   "cell_type": "code",
   "execution_count": 56,
   "id": "9087ee97-4f91-4f51-af8c-2449634ef8f6",
   "metadata": {},
   "outputs": [
    {
     "data": {
      "text/plain": [
       "matrix([[81.8],\n",
       "        [81.4],\n",
       "        [82.9],\n",
       "        [90. ],\n",
       "        [84.8],\n",
       "        [84.4],\n",
       "        [78.6],\n",
       "        [92.6]])"
      ]
     },
     "execution_count": 56,
     "metadata": {},
     "output_type": "execute_result"
    }
   ],
   "source": [
    "# (8,2) * (2,1) = (8,1)\n",
    "np.mat(score)* np.array([[0.7],[0.3]])"
   ]
  },
  {
   "cell_type": "code",
   "execution_count": 58,
   "id": "35a77eb4-a7a7-4be4-bb26-f94270953342",
   "metadata": {},
   "outputs": [
    {
     "data": {
      "text/plain": [
       "array([[81.8],\n",
       "       [81.4],\n",
       "       [82.9],\n",
       "       [90. ],\n",
       "       [84.8],\n",
       "       [84.4],\n",
       "       [78.6],\n",
       "       [92.6]])"
      ]
     },
     "execution_count": 58,
     "metadata": {},
     "output_type": "execute_result"
    }
   ],
   "source": [
    "np.matmul(score, np.array([[0.7],[0.3]]))"
   ]
  },
  {
   "cell_type": "code",
   "execution_count": 59,
   "id": "aa743cb8-d5db-4d02-944c-0abd3665e909",
   "metadata": {},
   "outputs": [
    {
     "data": {
      "text/plain": [
       "array([[81.8],\n",
       "       [81.4],\n",
       "       [82.9],\n",
       "       [90. ],\n",
       "       [84.8],\n",
       "       [84.4],\n",
       "       [78.6],\n",
       "       [92.6]])"
      ]
     },
     "execution_count": 59,
     "metadata": {},
     "output_type": "execute_result"
    }
   ],
   "source": [
    "np.dot(score, np.array([[0.7],[0.3]]))"
   ]
  },
  {
   "cell_type": "code",
   "execution_count": 60,
   "id": "2e266fc9-080b-4ae2-80c5-b8e83a9be76d",
   "metadata": {},
   "outputs": [
    {
     "data": {
      "text/plain": [
       "array([[81.8],\n",
       "       [81.4],\n",
       "       [82.9],\n",
       "       [90. ],\n",
       "       [84.8],\n",
       "       [84.4],\n",
       "       [78.6],\n",
       "       [92.6]])"
      ]
     },
     "execution_count": 60,
     "metadata": {},
     "output_type": "execute_result"
    }
   ],
   "source": [
    "score @ np.array([[0.7],[0.3]])"
   ]
  },
  {
   "cell_type": "code",
   "execution_count": 61,
   "id": "901e230e-e20a-4e79-bbaf-5003372aea6d",
   "metadata": {},
   "outputs": [
    {
     "data": {
      "text/plain": [
       "matrix([[81.8],\n",
       "        [81.4],\n",
       "        [82.9],\n",
       "        [90. ],\n",
       "        [84.8],\n",
       "        [84.4],\n",
       "        [78.6],\n",
       "        [92.6]])"
      ]
     },
     "execution_count": 61,
     "metadata": {},
     "output_type": "execute_result"
    }
   ],
   "source": [
    "score * np.mat(np.array([[0.7],[0.3]]))"
   ]
  },
  {
   "cell_type": "markdown",
   "id": "68547419-4b48-4ba8-857b-1d6babb25e41",
   "metadata": {},
   "source": [
    "# 数组合并"
   ]
  },
  {
   "cell_type": "code",
   "execution_count": 64,
   "id": "bc72808f-018b-4dd7-80be-21497a184d86",
   "metadata": {},
   "outputs": [],
   "source": [
    "a = stock_change[:2, 0:4]\n",
    "b = stock_change[3:5, 0:4]"
   ]
  },
  {
   "cell_type": "code",
   "execution_count": 65,
   "id": "1fc541f3-335d-4fad-8cbb-8b8b1a95a0bc",
   "metadata": {},
   "outputs": [
    {
     "data": {
      "text/plain": [
       "array([[-0.0115616 ,  0.77012907, -1.37138313,  0.06657027],\n",
       "       [-0.69097921,  0.78077073,  0.09050113,  0.20989077]])"
      ]
     },
     "execution_count": 65,
     "metadata": {},
     "output_type": "execute_result"
    }
   ],
   "source": [
    "a"
   ]
  },
  {
   "cell_type": "code",
   "execution_count": 67,
   "id": "953b1804-562d-4ca9-885d-bae5bf069b23",
   "metadata": {},
   "outputs": [
    {
     "data": {
      "text/plain": [
       "array([[-0.15843342,  2.07433281,  0.18602596,  0.95778058],\n",
       "       [ 0.77265746, -0.41040048, -1.15532313, -0.41096549]])"
      ]
     },
     "execution_count": 67,
     "metadata": {},
     "output_type": "execute_result"
    }
   ],
   "source": [
    "b"
   ]
  },
  {
   "cell_type": "code",
   "execution_count": 68,
   "id": "23109d7f-f144-40af-8ed7-ee840014a027",
   "metadata": {},
   "outputs": [
    {
     "data": {
      "text/plain": [
       "array([[-0.0115616 ,  0.77012907, -1.37138313,  0.06657027, -0.15843342,\n",
       "         2.07433281,  0.18602596,  0.95778058],\n",
       "       [-0.69097921,  0.78077073,  0.09050113,  0.20989077,  0.77265746,\n",
       "        -0.41040048, -1.15532313, -0.41096549]])"
      ]
     },
     "execution_count": 68,
     "metadata": {},
     "output_type": "execute_result"
    }
   ],
   "source": [
    "np.hstack((a,b))"
   ]
  },
  {
   "cell_type": "code",
   "execution_count": 69,
   "id": "dc2cb7b6-477f-4151-906f-59e48c3e04a8",
   "metadata": {},
   "outputs": [
    {
     "data": {
      "text/plain": [
       "array([[-0.0115616 ,  0.77012907, -1.37138313,  0.06657027],\n",
       "       [-0.69097921,  0.78077073,  0.09050113,  0.20989077],\n",
       "       [-0.15843342,  2.07433281,  0.18602596,  0.95778058],\n",
       "       [ 0.77265746, -0.41040048, -1.15532313, -0.41096549]])"
      ]
     },
     "execution_count": 69,
     "metadata": {},
     "output_type": "execute_result"
    }
   ],
   "source": [
    "np.vstack((a,b))"
   ]
  },
  {
   "cell_type": "code",
   "execution_count": 70,
   "id": "e80148ee-8d0a-4ed1-9bac-c8d3159e8625",
   "metadata": {},
   "outputs": [
    {
     "data": {
      "text/plain": [
       "array([[-0.0115616 ,  0.77012907, -1.37138313,  0.06657027],\n",
       "       [-0.69097921,  0.78077073,  0.09050113,  0.20989077],\n",
       "       [-0.15843342,  2.07433281,  0.18602596,  0.95778058],\n",
       "       [ 0.77265746, -0.41040048, -1.15532313, -0.41096549]])"
      ]
     },
     "execution_count": 70,
     "metadata": {},
     "output_type": "execute_result"
    }
   ],
   "source": [
    "np.concatenate((a,b))"
   ]
  },
  {
   "cell_type": "code",
   "execution_count": 71,
   "id": "27fe446e-6c76-432e-a9ba-dc08be15f8c9",
   "metadata": {},
   "outputs": [
    {
     "data": {
      "text/plain": [
       "array([[-0.0115616 ,  0.77012907, -1.37138313,  0.06657027],\n",
       "       [-0.69097921,  0.78077073,  0.09050113,  0.20989077],\n",
       "       [-0.15843342,  2.07433281,  0.18602596,  0.95778058],\n",
       "       [ 0.77265746, -0.41040048, -1.15532313, -0.41096549]])"
      ]
     },
     "execution_count": 71,
     "metadata": {},
     "output_type": "execute_result"
    }
   ],
   "source": [
    "np.concatenate((a,b), axis=0)"
   ]
  },
  {
   "cell_type": "code",
   "execution_count": 72,
   "id": "845375b0-1b0e-4800-8c23-952fb0124fa5",
   "metadata": {},
   "outputs": [
    {
     "data": {
      "text/plain": [
       "array([[-0.0115616 ,  0.77012907, -1.37138313,  0.06657027, -0.15843342,\n",
       "         2.07433281,  0.18602596,  0.95778058],\n",
       "       [-0.69097921,  0.78077073,  0.09050113,  0.20989077,  0.77265746,\n",
       "        -0.41040048, -1.15532313, -0.41096549]])"
      ]
     },
     "execution_count": 72,
     "metadata": {},
     "output_type": "execute_result"
    }
   ],
   "source": [
    "np.concatenate((a,b), axis=1)"
   ]
  },
  {
   "cell_type": "markdown",
   "id": "494762b2-eaa4-47bd-8041-8afed61c98a5",
   "metadata": {},
   "source": [
    "# 数组的分割"
   ]
  },
  {
   "cell_type": "code",
   "execution_count": 73,
   "id": "e27991b9-f8de-4a3d-a16e-0d443ebf903c",
   "metadata": {},
   "outputs": [],
   "source": [
    "x = np.arange(20)"
   ]
  },
  {
   "cell_type": "code",
   "execution_count": 74,
   "id": "d063801b-54bc-4516-98c7-f8165b8f3d2a",
   "metadata": {},
   "outputs": [
    {
     "data": {
      "text/plain": [
       "array([ 0,  1,  2,  3,  4,  5,  6,  7,  8,  9, 10, 11, 12, 13, 14, 15, 16,\n",
       "       17, 18, 19])"
      ]
     },
     "execution_count": 74,
     "metadata": {},
     "output_type": "execute_result"
    }
   ],
   "source": [
    "x"
   ]
  },
  {
   "cell_type": "code",
   "execution_count": 75,
   "id": "07b06a5a-2e60-485e-824d-fc9f9be77433",
   "metadata": {},
   "outputs": [
    {
     "data": {
      "text/plain": [
       "[array([0, 1, 2, 3]),\n",
       " array([4, 5, 6, 7]),\n",
       " array([ 8,  9, 10, 11]),\n",
       " array([12, 13, 14, 15]),\n",
       " array([16, 17, 18, 19])]"
      ]
     },
     "execution_count": 75,
     "metadata": {},
     "output_type": "execute_result"
    }
   ],
   "source": [
    "np.split(x, 5)"
   ]
  },
  {
   "cell_type": "code",
   "execution_count": 80,
   "id": "68eba574-bd74-4e7b-8f2f-1c2e4c06244a",
   "metadata": {},
   "outputs": [],
   "source": [
    "x = np.arange(0,20,2)"
   ]
  },
  {
   "cell_type": "code",
   "execution_count": 81,
   "id": "7288a3db-60c3-4aea-a954-3ed286c29082",
   "metadata": {},
   "outputs": [
    {
     "data": {
      "text/plain": [
       "array([ 0,  2,  4,  6,  8, 10, 12, 14, 16, 18])"
      ]
     },
     "execution_count": 81,
     "metadata": {},
     "output_type": "execute_result"
    }
   ],
   "source": [
    "x"
   ]
  },
  {
   "cell_type": "code",
   "execution_count": 82,
   "id": "26a27a69-1f17-43ad-ab7b-200b7979b1e6",
   "metadata": {},
   "outputs": [
    {
     "data": {
      "text/plain": [
       "[array([0, 2, 4]), array([6, 8]), array([10, 12, 14, 16]), array([18])]"
      ]
     },
     "execution_count": 82,
     "metadata": {},
     "output_type": "execute_result"
    }
   ],
   "source": [
    "np.split(x,[3,5,9])"
   ]
  },
  {
   "cell_type": "code",
   "execution_count": 83,
   "id": "beab5b88-2f21-45f1-8eb4-b297510b762e",
   "metadata": {},
   "outputs": [
    {
     "data": {
      "text/plain": [
       "[array([0, 2, 4]),\n",
       " array([6, 8]),\n",
       " array([10, 12, 14, 16]),\n",
       " array([18]),\n",
       " array([], dtype=int32)]"
      ]
     },
     "execution_count": 83,
     "metadata": {},
     "output_type": "execute_result"
    }
   ],
   "source": [
    "x = np.arange(0,20,2)\n",
    "np.split(x,[3,5,9,10])"
   ]
  },
  {
   "cell_type": "markdown",
   "id": "dc8606a0-9dc0-4317-951b-79601a0f26c6",
   "metadata": {},
   "source": [
    "# 数据IO"
   ]
  },
  {
   "cell_type": "code",
   "execution_count": 85,
   "id": "ee580861-ac3a-48ac-aec5-7d2b4243c7ad",
   "metadata": {},
   "outputs": [
    {
     "data": {
      "text/plain": [
       "array([[nan, nan, nan, nan, nan, nan, nan, nan, nan, nan, nan],\n",
       "       [nan,  5., 12., 22., 23., 10., 15., 18., 16.,  3.,  8.],\n",
       "       [nan,  4., 13., 23., 24., 11., 16., 19., 17.,  4.,  9.],\n",
       "       [nan,  3., 14., 24., 25., 12., 17., 20., 18.,  5., 10.],\n",
       "       [nan,  6., 15., 25., 26., 13., 18., 21., 19.,  6., 11.],\n",
       "       [nan,  7., 16., 26., 27., 14., 19., 22., 20.,  7., 12.],\n",
       "       [nan,  8., 17., 27., 28., 15., 20., 23., 21.,  8., 13.],\n",
       "       [nan,  9., 18., 28., 29., 16., 21., 24., 22.,  9., 14.],\n",
       "       [nan, 10., 19., 29., 30., 17., 22., 25., 23., 10., 15.],\n",
       "       [nan, 11., 20., 30., 31., 18., 23., 26., 24., 11., 16.],\n",
       "       [nan, 12., 21., 31., 32., 19., 24., 27., 25., 12., 17.],\n",
       "       [nan, 13., 22., 32., 33., 20., 25., 28., 26., 13., 18.],\n",
       "       [nan, 14., 23., 33., 34., 21., 26., 29., 27., 14., 19.],\n",
       "       [nan, 15., 24., 34., 35., 22., 27., 30., 28., 15., 20.],\n",
       "       [nan, 16., 25., 35., 36., 23., 28., 31., 29., 16., 21.]])"
      ]
     },
     "execution_count": 85,
     "metadata": {},
     "output_type": "execute_result"
    }
   ],
   "source": [
    "np.genfromtxt(\"weather-for-cities.csv\", delimiter=\",\")"
   ]
  },
  {
   "cell_type": "code",
   "execution_count": null,
   "id": "5f8d409a-4380-45cb-ac95-eba4d5a25b6b",
   "metadata": {},
   "outputs": [],
   "source": []
  }
 ],
 "metadata": {
  "kernelspec": {
   "display_name": "Python 3 (ipykernel)",
   "language": "python",
   "name": "python3"
  },
  "language_info": {
   "codemirror_mode": {
    "name": "ipython",
    "version": 3
   },
   "file_extension": ".py",
   "mimetype": "text/x-python",
   "name": "python",
   "nbconvert_exporter": "python",
   "pygments_lexer": "ipython3",
   "version": "3.12.1"
  }
 },
 "nbformat": 4,
 "nbformat_minor": 5
}
